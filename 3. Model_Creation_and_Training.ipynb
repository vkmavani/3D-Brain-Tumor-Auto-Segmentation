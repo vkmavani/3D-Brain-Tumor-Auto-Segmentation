{
  "nbformat": 4,
  "nbformat_minor": 0,
  "metadata": {
    "colab": {
      "name": "Model Creation and Training.ipynb",
      "provenance": [],
      "collapsed_sections": [
        "wVetBork9EAy",
        "NTPzPP3UT68H",
        "DDlTMSap9xMw"
      ]
    },
    "kernelspec": {
      "name": "python3",
      "display_name": "Python 3"
    },
    "accelerator": "GPU"
  },
  "cells": [
    {
      "cell_type": "markdown",
      "metadata": {
        "id": "Wyi1iQSb8gz9"
      },
      "source": [
        "# **Brain Tumor Segmentation**\n",
        "\n",
        "* MR image file containing a 4D array of in the shape of (240, 240, 155, 4).\n",
        "    -  The first 3 dimensions are the X, Y, and Z values which is called voxel.\n",
        "    -  The 4th dimension is the values for 4 different sequences\n",
        "        - 0 - **FLAIR** : \"Fluid Attenuated Inversion Recovery\" (FLAIR)\n",
        "        - 1 - **T1w** : \"T1-weighted\"\n",
        "        - 2 - **t1gd** : \"T1-weighted with gadolinium contrast enhancement\" (T1-Gd)\n",
        "        - 3 - **T2w** : \"T2-weighted\"\n",
        "\n",
        "* Label file containing a 3D array with the shape of (240, 240, 155).  \n",
        "    - The integer values in this array indicate the \"label\" for each voxel in the corresponding image files:\n",
        "        - 0: background\n",
        "        - 1: edema\n",
        "        - 2: non-enhancing tumor\n",
        "        - 3: enhancing tumor"
      ]
    },
    {
      "cell_type": "markdown",
      "metadata": {
        "id": "wVetBork9EAy"
      },
      "source": [
        "### *Import Libraries*"
      ]
    },
    {
      "cell_type": "code",
      "metadata": {
        "id": "f4SvF0ML8U-C"
      },
      "source": [
        "import utils\n",
        "import numpy as np\n",
        "import pandas as pd\n",
        "import nibabel as nib\n",
        "import matplotlib.pyplot as plt\n",
        "\n",
        "import torch\n",
        "import torch.nn.functional as F\n",
        "from torch import nn, optim\n",
        "\n",
        "device = torch.device(\"cuda\" if torch.cuda.is_available() else \"cpu\")"
      ],
      "execution_count": 1,
      "outputs": []
    },
    {
      "cell_type": "code",
      "metadata": {
        "id": "l1Crp4DS9eby"
      },
      "source": [
        ""
      ],
      "execution_count": 1,
      "outputs": []
    },
    {
      "cell_type": "markdown",
      "metadata": {
        "id": "NTPzPP3UT68H"
      },
      "source": [
        "### *Set DataGenerator*"
      ]
    },
    {
      "cell_type": "code",
      "metadata": {
        "id": "cXWHv9LIV3ka"
      },
      "source": [
        "X = torch.load('/content/drive/My Drive/BrainTumourData/TensorData/X.pt')\n",
        "y = torch.load('/content/drive/My Drive/BrainTumourData/TensorData/y.pt')\n",
        "\n",
        "train_loader, valid_loader = utils.DataGenerator(X, y, batch_size=8, valid_size=0.3)"
      ],
      "execution_count": 2,
      "outputs": []
    },
    {
      "cell_type": "code",
      "metadata": {
        "id": "cTBUAxfhWriM",
        "outputId": "dcf0ed8c-5595-459a-8c0f-eafdd014db68",
        "colab": {
          "base_uri": "https://localhost:8080/"
        }
      },
      "source": [
        "print(len(train_loader.sampler))\n",
        "print(len(valid_loader.sampler))"
      ],
      "execution_count": 3,
      "outputs": [
        {
          "output_type": "stream",
          "text": [
            "122\n",
            "51\n"
          ],
          "name": "stdout"
        }
      ]
    },
    {
      "cell_type": "code",
      "metadata": {
        "id": "mvP81xStWvTL"
      },
      "source": [
        "#dataiter = iter(train_loader)\n",
        "#images,labels = dataiter.next()\n",
        "#print(type(images))\n",
        "#print(images.shape)\n",
        "#print(labels.shape)"
      ],
      "execution_count": 4,
      "outputs": []
    },
    {
      "cell_type": "code",
      "metadata": {
        "id": "JAotY6LvXl2P"
      },
      "source": [
        ""
      ],
      "execution_count": 4,
      "outputs": []
    },
    {
      "cell_type": "markdown",
      "metadata": {
        "id": "h6J6qS3I9Qh_"
      },
      "source": [
        "### *Create Model*"
      ]
    },
    {
      "cell_type": "code",
      "metadata": {
        "id": "mzQOnu5G9M1-"
      },
      "source": [
        "def conv_block(in_chan, out_chan, final_layer=False):\n",
        "    if not final_layer:\n",
        "        return nn.Sequential(\n",
        "            nn.Conv3d(in_chan, out_chan, kernel_size=3, stride=1, padding=1),\n",
        "            nn.BatchNorm3d(out_chan),\n",
        "            nn.ReLU(inplace=True))\n",
        "    else:\n",
        "        return nn.Sequential(\n",
        "            nn.Conv3d(in_chan, out_chan, kernel_size=3, stride=1, padding=1),\n",
        "            nn.BatchNorm3d(out_chan))"
      ],
      "execution_count": 5,
      "outputs": []
    },
    {
      "cell_type": "code",
      "metadata": {
        "id": "g_pWcR9z9Yxn"
      },
      "source": [
        "class Unet3D(nn.Module):\n",
        "\n",
        "    def __init__(self, in_chan, out_chan, filters):\n",
        "        super(Unet3D, self).__init__()\n",
        "\n",
        "        self.in_chan = in_chan\n",
        "        self.out_chan = out_chan\n",
        "        self.filters = filters\n",
        "\n",
        "        # Encoder\n",
        "        self.conv_1 = conv_block(self.in_chan, self.filters * 1)\n",
        "        self.conv_2 = conv_block(self.filters * 1, self.filters * 2)\n",
        "        self.conv_3 = conv_block(self.filters * 2, self.filters * 4)\n",
        "\n",
        "        self.conv_1_1 = conv_block(filters * 1, filters * 1)\n",
        "        self.conv_2_1 = conv_block(filters * 2, filters * 2)\n",
        "        self.conv_3_1 = conv_block(filters * 4, filters * 4)\n",
        "\n",
        "        self.max_pool = nn.MaxPool3d(kernel_size=2, stride=2)\n",
        "\n",
        "        # Bottel-neck\n",
        "        self.bottel_neck = conv_block(self.filters * 4, self.filters * 8)\n",
        "        self.dropout = nn.Dropout3d(0.3)\n",
        "\n",
        "        # Decoder\n",
        "        self.upsample = nn.Upsample(scale_factor=(2.0, 2.0, 2.0), mode='nearest')\n",
        "        self.dconv_1 = conv_block(self.filters * 12, self.filters * 4)\n",
        "        self.dconv_2 = conv_block(self.filters * 6, self.filters * 2)\n",
        "        self.dconv_3 = conv_block(self.filters * 3, self.filters * 1)\n",
        "\n",
        "        # Output and Conv_block\n",
        "        self.output = conv_block(self.filters * 1, self.out_chan, final_layer=True)\n",
        "\n",
        "    def forward(self, x):\n",
        "\n",
        "        # Down Sampling\n",
        "        conv1 = self.conv_1_1(self.conv_1(x))                                         # (:, 16, :, :, :)\n",
        "        conv2 = self.conv_2_1(self.conv_2(self.max_pool(conv1)))                      # (:, 32, :, :, :)\n",
        "        conv3 = self.conv_3_1(self.conv_3(self.dropout(self.max_pool(conv2))))        # (:, 64, :, :, :)\n",
        "\n",
        "        # Bottel-neck\n",
        "        bottelneck = self.bottel_neck(self.max_pool(conv3))                           # (:, 128, :, :, :)\n",
        "\n",
        "        # Up Sampling\n",
        "        upconv1 = self.upsample(bottelneck)                                           # (:, 128, :, :, :)\n",
        "        upconv1 = torch.cat([upconv1, conv3], dim=1)                                  # (:, 192, :, :, :)\n",
        "        upconv1 = self.dconv_1(upconv1)                                               # (:, 64, :, :, :)\n",
        "\n",
        "        upconv2 = self.upsample(upconv1)                                              # (:, 64, :, :, :)\n",
        "        upconv2 = torch.cat([upconv2, conv2], dim=1)                                  # (:, 96, :, :, :)\n",
        "        upconv2 = self.dconv_2(self.dropout(upconv2))                                 # (:, 32, :, :, :)\n",
        "\n",
        "        upconv3 = self.upsample(upconv2)                                              # (:, 32, :, :, :)\n",
        "        upconv3 = torch.cat([upconv3, conv1], dim=1)                                  # (:, 48, :, :, :)\n",
        "        upconv3 = self.dconv_3(upconv3)                                               # (:, 16, :, :, :)\n",
        "\n",
        "        out = F.logsigmoid(self.output(upconv3))                                      # (:, 3, :, :, :)\n",
        "\n",
        "        return out"
      ],
      "execution_count": 6,
      "outputs": []
    },
    {
      "cell_type": "code",
      "metadata": {
        "id": "SGZ4Fmsd9dZp",
        "outputId": "e48a4eca-1769-4d83-bf88-a8961244d068",
        "colab": {
          "base_uri": "https://localhost:8080/"
        }
      },
      "source": [
        "model = Unet3D(in_chan=4, out_chan=3, filters=16)\n",
        "model.to(device)"
      ],
      "execution_count": 7,
      "outputs": [
        {
          "output_type": "execute_result",
          "data": {
            "text/plain": [
              "Unet3D(\n",
              "  (conv_1): Sequential(\n",
              "    (0): Conv3d(4, 16, kernel_size=(3, 3, 3), stride=(1, 1, 1), padding=(1, 1, 1))\n",
              "    (1): BatchNorm3d(16, eps=1e-05, momentum=0.1, affine=True, track_running_stats=True)\n",
              "    (2): ReLU(inplace=True)\n",
              "  )\n",
              "  (conv_2): Sequential(\n",
              "    (0): Conv3d(16, 32, kernel_size=(3, 3, 3), stride=(1, 1, 1), padding=(1, 1, 1))\n",
              "    (1): BatchNorm3d(32, eps=1e-05, momentum=0.1, affine=True, track_running_stats=True)\n",
              "    (2): ReLU(inplace=True)\n",
              "  )\n",
              "  (conv_3): Sequential(\n",
              "    (0): Conv3d(32, 64, kernel_size=(3, 3, 3), stride=(1, 1, 1), padding=(1, 1, 1))\n",
              "    (1): BatchNorm3d(64, eps=1e-05, momentum=0.1, affine=True, track_running_stats=True)\n",
              "    (2): ReLU(inplace=True)\n",
              "  )\n",
              "  (conv_1_1): Sequential(\n",
              "    (0): Conv3d(16, 16, kernel_size=(3, 3, 3), stride=(1, 1, 1), padding=(1, 1, 1))\n",
              "    (1): BatchNorm3d(16, eps=1e-05, momentum=0.1, affine=True, track_running_stats=True)\n",
              "    (2): ReLU(inplace=True)\n",
              "  )\n",
              "  (conv_2_1): Sequential(\n",
              "    (0): Conv3d(32, 32, kernel_size=(3, 3, 3), stride=(1, 1, 1), padding=(1, 1, 1))\n",
              "    (1): BatchNorm3d(32, eps=1e-05, momentum=0.1, affine=True, track_running_stats=True)\n",
              "    (2): ReLU(inplace=True)\n",
              "  )\n",
              "  (conv_3_1): Sequential(\n",
              "    (0): Conv3d(64, 64, kernel_size=(3, 3, 3), stride=(1, 1, 1), padding=(1, 1, 1))\n",
              "    (1): BatchNorm3d(64, eps=1e-05, momentum=0.1, affine=True, track_running_stats=True)\n",
              "    (2): ReLU(inplace=True)\n",
              "  )\n",
              "  (max_pool): MaxPool3d(kernel_size=2, stride=2, padding=0, dilation=1, ceil_mode=False)\n",
              "  (bottel_neck): Sequential(\n",
              "    (0): Conv3d(64, 128, kernel_size=(3, 3, 3), stride=(1, 1, 1), padding=(1, 1, 1))\n",
              "    (1): BatchNorm3d(128, eps=1e-05, momentum=0.1, affine=True, track_running_stats=True)\n",
              "    (2): ReLU(inplace=True)\n",
              "  )\n",
              "  (dropout): Dropout3d(p=0.3, inplace=False)\n",
              "  (upsample): Upsample(scale_factor=(2.0, 2.0, 2.0), mode=nearest)\n",
              "  (dconv_1): Sequential(\n",
              "    (0): Conv3d(192, 64, kernel_size=(3, 3, 3), stride=(1, 1, 1), padding=(1, 1, 1))\n",
              "    (1): BatchNorm3d(64, eps=1e-05, momentum=0.1, affine=True, track_running_stats=True)\n",
              "    (2): ReLU(inplace=True)\n",
              "  )\n",
              "  (dconv_2): Sequential(\n",
              "    (0): Conv3d(96, 32, kernel_size=(3, 3, 3), stride=(1, 1, 1), padding=(1, 1, 1))\n",
              "    (1): BatchNorm3d(32, eps=1e-05, momentum=0.1, affine=True, track_running_stats=True)\n",
              "    (2): ReLU(inplace=True)\n",
              "  )\n",
              "  (dconv_3): Sequential(\n",
              "    (0): Conv3d(48, 16, kernel_size=(3, 3, 3), stride=(1, 1, 1), padding=(1, 1, 1))\n",
              "    (1): BatchNorm3d(16, eps=1e-05, momentum=0.1, affine=True, track_running_stats=True)\n",
              "    (2): ReLU(inplace=True)\n",
              "  )\n",
              "  (output): Sequential(\n",
              "    (0): Conv3d(16, 3, kernel_size=(3, 3, 3), stride=(1, 1, 1), padding=(1, 1, 1))\n",
              "    (1): BatchNorm3d(3, eps=1e-05, momentum=0.1, affine=True, track_running_stats=True)\n",
              "  )\n",
              ")"
            ]
          },
          "metadata": {
            "tags": []
          },
          "execution_count": 7
        }
      ]
    },
    {
      "cell_type": "code",
      "metadata": {
        "id": "8kGmdV3LTePN"
      },
      "source": [
        ""
      ],
      "execution_count": 7,
      "outputs": []
    },
    {
      "cell_type": "markdown",
      "metadata": {
        "id": "DDlTMSap9xMw"
      },
      "source": [
        "### *Loss and Optimizer*"
      ]
    },
    {
      "cell_type": "code",
      "metadata": {
        "id": "9wD1rUNm9zXh"
      },
      "source": [
        "def dice_coefficient(y_true, y_pred, axis=(1, 2, 3), epsilon=0.00001):\n",
        "    dice_numerator = (2.0 * torch.sum(y_pred * y_true, axis=axis)) + epsilon\n",
        "    dice_denominator = torch.sum(y_pred, dim=axis) + torch.sum(y_true, dim=axis) + epsilon\n",
        "    dice_coefficient = torch.mean(dice_numerator / dice_denominator)\n",
        "    return dice_coefficient\n",
        "\n",
        "def soft_dice_loss(y_true, y_pred, axis=(1, 2, 3), epsilon=0.00001):\n",
        "    dice_numerator = (2.0 * torch.sum(y_pred * y_true, axis=axis)) + epsilon\n",
        "    dice_denominator = torch.sum(y_pred**2, dim=axis) + torch.sum(y_true**2, dim=axis) + epsilon\n",
        "    dice_loss = 1 - torch.mean(dice_numerator / dice_denominator)\n",
        "    return dice_loss"
      ],
      "execution_count": 8,
      "outputs": []
    },
    {
      "cell_type": "code",
      "metadata": {
        "id": "MDxF_iLy93MM"
      },
      "source": [
        "optimizer = optim.Adam(model.parameters(), lr=0.01)"
      ],
      "execution_count": 9,
      "outputs": []
    },
    {
      "cell_type": "code",
      "metadata": {
        "id": "f2XhhYvLkBm-"
      },
      "source": [
        ""
      ],
      "execution_count": 9,
      "outputs": []
    },
    {
      "cell_type": "markdown",
      "metadata": {
        "id": "iF3Geixm93s3"
      },
      "source": [
        "### *Training*"
      ]
    },
    {
      "cell_type": "code",
      "metadata": {
        "id": "nWEGixg599W_"
      },
      "source": [
        "epochs = 100\n",
        "hist_train_loss = []\n",
        "hist_val_loss = []\n",
        "\n",
        "hist_train_dice = []\n",
        "hist_val_dice = []\n",
        "\n",
        "valid_loss_min = np.Inf"
      ],
      "execution_count": 10,
      "outputs": []
    },
    {
      "cell_type": "code",
      "metadata": {
        "id": "6zVKdDF2-HKk",
        "outputId": "36865e8e-4aaa-41c9-85b6-a90f0f0cfebf",
        "colab": {
          "base_uri": "https://localhost:8080/"
        }
      },
      "source": [
        "for epoch in range(epochs):\n",
        "\n",
        "    train_loss = 0.0\n",
        "    val_loss = 0.0\n",
        "    train_dice = 0.0\n",
        "    val_dice = 0.0\n",
        "\n",
        "    model.train()\n",
        "    for images,labels in train_loader:\n",
        "\n",
        "        images = images.cuda()\n",
        "        labels = labels.cuda()\n",
        "\n",
        "        optimizer.zero_grad()\n",
        "        logps = model(images)\n",
        "        ps = torch.exp(logps)\n",
        "\n",
        "        dice = dice_coefficient(labels, ps)\n",
        "        loss = soft_dice_loss(labels, ps)\n",
        "        loss.backward()\n",
        "        optimizer.step()\n",
        "\n",
        "        train_loss += loss.item()*images.size(0)\n",
        "        train_dice += dice.item()*images.size(0)\n",
        "        \n",
        "    model.eval()\n",
        "    with torch.no_grad():\n",
        "        for images,labels in valid_loader:\n",
        "\n",
        "            images = images.cuda()\n",
        "            labels = labels.cuda()\n",
        "\n",
        "            logps = model(images)\n",
        "            ps = torch.exp(logps)\n",
        "\n",
        "            dice = dice_coefficient(labels, ps)\n",
        "            loss = soft_dice_loss(labels,ps)        \n",
        "            val_loss += loss.item()*images.size(0)\n",
        "            val_dice += dice.item()*images.size(0)\n",
        "    \n",
        "    train_loss = train_loss / len(train_loader.sampler)\n",
        "    val_loss = val_loss / len(valid_loader.sampler)\n",
        "    train_dice = train_dice / len(train_loader.sampler)\n",
        "    val_dice = val_dice / len(valid_loader.sampler)\n",
        "\n",
        "    hist_train_loss.append(train_loss)\n",
        "    hist_val_loss.append(val_loss)\n",
        "    hist_train_dice.append(train_dice)\n",
        "    hist_val_dice.append(val_dice)\n",
        "\n",
        "    print(\"\\nEpoch : {} \\ntraining Loss : {:.6f}, \\tTrain_dice : {:.6f}, \\nValidation Loss : {:.6f}, \\tVal_dice : {:.6f}\".format(epoch + 1, \n",
        "                                                                                                                    train_loss, train_dice,\n",
        "                                                                                                                    val_loss, val_dice))\n",
        "    if val_loss <= valid_loss_min:\n",
        "        print('Validation loss decreased ({:.6f} --> {:.6f}).\\nSaving model ...'.format(valid_loss_min,val_loss))\n",
        "        torch.save(model.state_dict(), 'TumorSegmentation.pt')\n",
        "        valid_loss_min = val_loss"
      ],
      "execution_count": 11,
      "outputs": [
        {
          "output_type": "stream",
          "text": [
            "\n",
            "Epoch : 1 \n",
            "training Loss : 0.831165, \tTrain_dice : 0.091307, \n",
            "Validation Loss : 0.947216, \tVal_dice : 0.052331\n",
            "Validation loss decreased (inf --> 0.947216).\n",
            "Saving model ...\n",
            "\n",
            "Epoch : 2 \n",
            "training Loss : 0.782091, \tTrain_dice : 0.114103, \n",
            "Validation Loss : 0.857517, \tVal_dice : 0.094348\n",
            "Validation loss decreased (0.947216 --> 0.857517).\n",
            "Saving model ...\n",
            "\n",
            "Epoch : 3 \n",
            "training Loss : 0.742513, \tTrain_dice : 0.127446, \n",
            "Validation Loss : 0.808564, \tVal_dice : 0.109255\n",
            "Validation loss decreased (0.857517 --> 0.808564).\n",
            "Saving model ...\n",
            "\n",
            "Epoch : 4 \n",
            "training Loss : 0.695042, \tTrain_dice : 0.141093, \n",
            "Validation Loss : 0.678194, \tVal_dice : 0.139173\n",
            "Validation loss decreased (0.808564 --> 0.678194).\n",
            "Saving model ...\n",
            "\n",
            "Epoch : 5 \n",
            "training Loss : 0.648803, \tTrain_dice : 0.157133, \n",
            "Validation Loss : 0.687640, \tVal_dice : 0.115175\n",
            "\n",
            "Epoch : 6 \n",
            "training Loss : 0.604209, \tTrain_dice : 0.173692, \n",
            "Validation Loss : 0.633790, \tVal_dice : 0.164193\n",
            "Validation loss decreased (0.678194 --> 0.633790).\n",
            "Saving model ...\n",
            "\n",
            "Epoch : 7 \n",
            "training Loss : 0.530471, \tTrain_dice : 0.206337, \n",
            "Validation Loss : 0.610575, \tVal_dice : 0.168348\n",
            "Validation loss decreased (0.633790 --> 0.610575).\n",
            "Saving model ...\n",
            "\n",
            "Epoch : 8 \n",
            "training Loss : 0.475818, \tTrain_dice : 0.223305, \n",
            "Validation Loss : 0.583924, \tVal_dice : 0.192763\n",
            "Validation loss decreased (0.610575 --> 0.583924).\n",
            "Saving model ...\n",
            "\n",
            "Epoch : 9 \n",
            "training Loss : 0.432601, \tTrain_dice : 0.249674, \n",
            "Validation Loss : 0.543508, \tVal_dice : 0.184077\n",
            "Validation loss decreased (0.583924 --> 0.543508).\n",
            "Saving model ...\n",
            "\n",
            "Epoch : 10 \n",
            "training Loss : 0.414528, \tTrain_dice : 0.270831, \n",
            "Validation Loss : 0.509116, \tVal_dice : 0.255440\n",
            "Validation loss decreased (0.543508 --> 0.509116).\n",
            "Saving model ...\n",
            "\n",
            "Epoch : 11 \n",
            "training Loss : 0.383397, \tTrain_dice : 0.299636, \n",
            "Validation Loss : 0.473015, \tVal_dice : 0.245108\n",
            "Validation loss decreased (0.509116 --> 0.473015).\n",
            "Saving model ...\n",
            "\n",
            "Epoch : 12 \n",
            "training Loss : 0.371734, \tTrain_dice : 0.317295, \n",
            "Validation Loss : 0.394992, \tVal_dice : 0.319883\n",
            "Validation loss decreased (0.473015 --> 0.394992).\n",
            "Saving model ...\n",
            "\n",
            "Epoch : 13 \n",
            "training Loss : 0.361543, \tTrain_dice : 0.331495, \n",
            "Validation Loss : 0.410669, \tVal_dice : 0.326248\n",
            "\n",
            "Epoch : 14 \n",
            "training Loss : 0.354352, \tTrain_dice : 0.346917, \n",
            "Validation Loss : 0.496216, \tVal_dice : 0.274226\n",
            "\n",
            "Epoch : 15 \n",
            "training Loss : 0.354383, \tTrain_dice : 0.353821, \n",
            "Validation Loss : 0.396685, \tVal_dice : 0.352788\n",
            "\n",
            "Epoch : 16 \n",
            "training Loss : 0.337165, \tTrain_dice : 0.372013, \n",
            "Validation Loss : 0.431084, \tVal_dice : 0.314448\n",
            "\n",
            "Epoch : 17 \n",
            "training Loss : 0.338713, \tTrain_dice : 0.379952, \n",
            "Validation Loss : 0.404118, \tVal_dice : 0.325311\n",
            "\n",
            "Epoch : 18 \n",
            "training Loss : 0.338315, \tTrain_dice : 0.386360, \n",
            "Validation Loss : 0.398292, \tVal_dice : 0.360389\n",
            "\n",
            "Epoch : 19 \n",
            "training Loss : 0.337154, \tTrain_dice : 0.391150, \n",
            "Validation Loss : 0.376555, \tVal_dice : 0.367272\n",
            "Validation loss decreased (0.394992 --> 0.376555).\n",
            "Saving model ...\n",
            "\n",
            "Epoch : 20 \n",
            "training Loss : 0.329096, \tTrain_dice : 0.400265, \n",
            "Validation Loss : 0.411426, \tVal_dice : 0.345542\n",
            "\n",
            "Epoch : 21 \n",
            "training Loss : 0.327879, \tTrain_dice : 0.405654, \n",
            "Validation Loss : 0.439907, \tVal_dice : 0.350050\n",
            "\n",
            "Epoch : 22 \n",
            "training Loss : 0.339371, \tTrain_dice : 0.408301, \n",
            "Validation Loss : 0.496853, \tVal_dice : 0.309085\n",
            "\n",
            "Epoch : 23 \n",
            "training Loss : 0.338575, \tTrain_dice : 0.414534, \n",
            "Validation Loss : 0.389153, \tVal_dice : 0.394885\n",
            "\n",
            "Epoch : 24 \n",
            "training Loss : 0.328343, \tTrain_dice : 0.422286, \n",
            "Validation Loss : 0.400795, \tVal_dice : 0.395924\n",
            "\n",
            "Epoch : 25 \n",
            "training Loss : 0.329559, \tTrain_dice : 0.423503, \n",
            "Validation Loss : 0.391570, \tVal_dice : 0.361189\n",
            "\n",
            "Epoch : 26 \n",
            "training Loss : 0.321830, \tTrain_dice : 0.432021, \n",
            "Validation Loss : 0.369057, \tVal_dice : 0.405117\n",
            "Validation loss decreased (0.376555 --> 0.369057).\n",
            "Saving model ...\n",
            "\n",
            "Epoch : 27 \n",
            "training Loss : 0.320013, \tTrain_dice : 0.435913, \n",
            "Validation Loss : 0.373495, \tVal_dice : 0.411810\n",
            "\n",
            "Epoch : 28 \n",
            "training Loss : 0.322457, \tTrain_dice : 0.436419, \n",
            "Validation Loss : 0.356669, \tVal_dice : 0.400509\n",
            "Validation loss decreased (0.369057 --> 0.356669).\n",
            "Saving model ...\n",
            "\n",
            "Epoch : 29 \n",
            "training Loss : 0.317236, \tTrain_dice : 0.441421, \n",
            "Validation Loss : 0.395760, \tVal_dice : 0.379928\n",
            "\n",
            "Epoch : 30 \n",
            "training Loss : 0.320325, \tTrain_dice : 0.445321, \n",
            "Validation Loss : 0.371265, \tVal_dice : 0.416752\n",
            "\n",
            "Epoch : 31 \n",
            "training Loss : 0.313030, \tTrain_dice : 0.454854, \n",
            "Validation Loss : 0.340507, \tVal_dice : 0.430693\n",
            "Validation loss decreased (0.356669 --> 0.340507).\n",
            "Saving model ...\n",
            "\n",
            "Epoch : 32 \n",
            "training Loss : 0.317161, \tTrain_dice : 0.458818, \n",
            "Validation Loss : 0.377918, \tVal_dice : 0.401532\n",
            "\n",
            "Epoch : 33 \n",
            "training Loss : 0.316880, \tTrain_dice : 0.458416, \n",
            "Validation Loss : 0.371079, \tVal_dice : 0.424677\n",
            "\n",
            "Epoch : 34 \n",
            "training Loss : 0.298710, \tTrain_dice : 0.472103, \n",
            "Validation Loss : 0.364928, \tVal_dice : 0.425767\n",
            "\n",
            "Epoch : 35 \n",
            "training Loss : 0.301007, \tTrain_dice : 0.475087, \n",
            "Validation Loss : 0.353445, \tVal_dice : 0.439409\n",
            "\n",
            "Epoch : 36 \n",
            "training Loss : 0.306833, \tTrain_dice : 0.470078, \n",
            "Validation Loss : 0.334536, \tVal_dice : 0.444889\n",
            "Validation loss decreased (0.340507 --> 0.334536).\n",
            "Saving model ...\n",
            "\n",
            "Epoch : 37 \n",
            "training Loss : 0.298657, \tTrain_dice : 0.479096, \n",
            "Validation Loss : 0.343787, \tVal_dice : 0.451875\n",
            "\n",
            "Epoch : 38 \n",
            "training Loss : 0.296414, \tTrain_dice : 0.485970, \n",
            "Validation Loss : 0.329782, \tVal_dice : 0.460247\n",
            "Validation loss decreased (0.334536 --> 0.329782).\n",
            "Saving model ...\n",
            "\n",
            "Epoch : 39 \n",
            "training Loss : 0.297300, \tTrain_dice : 0.483183, \n",
            "Validation Loss : 0.398210, \tVal_dice : 0.422103\n",
            "\n",
            "Epoch : 40 \n",
            "training Loss : 0.304939, \tTrain_dice : 0.483834, \n",
            "Validation Loss : 0.400483, \tVal_dice : 0.430466\n",
            "\n",
            "Epoch : 41 \n",
            "training Loss : 0.296135, \tTrain_dice : 0.486487, \n",
            "Validation Loss : 0.349043, \tVal_dice : 0.445962\n",
            "\n",
            "Epoch : 42 \n",
            "training Loss : 0.299727, \tTrain_dice : 0.492248, \n",
            "Validation Loss : 0.346551, \tVal_dice : 0.456335\n",
            "\n",
            "Epoch : 43 \n",
            "training Loss : 0.300841, \tTrain_dice : 0.490881, \n",
            "Validation Loss : 0.332154, \tVal_dice : 0.463105\n",
            "\n",
            "Epoch : 44 \n",
            "training Loss : 0.290564, \tTrain_dice : 0.496171, \n",
            "Validation Loss : 0.330340, \tVal_dice : 0.471387\n",
            "\n",
            "Epoch : 45 \n",
            "training Loss : 0.299127, \tTrain_dice : 0.492821, \n",
            "Validation Loss : 0.355500, \tVal_dice : 0.444965\n",
            "\n",
            "Epoch : 46 \n",
            "training Loss : 0.296504, \tTrain_dice : 0.499416, \n",
            "Validation Loss : 0.330328, \tVal_dice : 0.473987\n",
            "\n",
            "Epoch : 47 \n",
            "training Loss : 0.290844, \tTrain_dice : 0.504757, \n",
            "Validation Loss : 0.341739, \tVal_dice : 0.469888\n",
            "\n",
            "Epoch : 48 \n",
            "training Loss : 0.297147, \tTrain_dice : 0.496342, \n",
            "Validation Loss : 0.325763, \tVal_dice : 0.486043\n",
            "Validation loss decreased (0.329782 --> 0.325763).\n",
            "Saving model ...\n",
            "\n",
            "Epoch : 49 \n",
            "training Loss : 0.293073, \tTrain_dice : 0.505880, \n",
            "Validation Loss : 0.320634, \tVal_dice : 0.483471\n",
            "Validation loss decreased (0.325763 --> 0.320634).\n",
            "Saving model ...\n",
            "\n",
            "Epoch : 50 \n",
            "training Loss : 0.291896, \tTrain_dice : 0.501977, \n",
            "Validation Loss : 0.348376, \tVal_dice : 0.446932\n",
            "\n",
            "Epoch : 51 \n",
            "training Loss : 0.313886, \tTrain_dice : 0.486742, \n",
            "Validation Loss : 0.357890, \tVal_dice : 0.448606\n",
            "\n",
            "Epoch : 52 \n",
            "training Loss : 0.302741, \tTrain_dice : 0.485029, \n",
            "Validation Loss : 0.338012, \tVal_dice : 0.461611\n",
            "\n",
            "Epoch : 53 \n",
            "training Loss : 0.289996, \tTrain_dice : 0.497537, \n",
            "Validation Loss : 0.316089, \tVal_dice : 0.480936\n",
            "Validation loss decreased (0.320634 --> 0.316089).\n",
            "Saving model ...\n",
            "\n",
            "Epoch : 54 \n",
            "training Loss : 0.280868, \tTrain_dice : 0.497784, \n",
            "Validation Loss : 0.311711, \tVal_dice : 0.472442\n",
            "Validation loss decreased (0.316089 --> 0.311711).\n",
            "Saving model ...\n",
            "\n",
            "Epoch : 55 \n",
            "training Loss : 0.258716, \tTrain_dice : 0.491505, \n",
            "Validation Loss : 0.284804, \tVal_dice : 0.479034\n",
            "Validation loss decreased (0.311711 --> 0.284804).\n",
            "Saving model ...\n",
            "\n",
            "Epoch : 56 \n",
            "training Loss : 0.249896, \tTrain_dice : 0.505709, \n",
            "Validation Loss : 0.304573, \tVal_dice : 0.468210\n",
            "\n",
            "Epoch : 57 \n",
            "training Loss : 0.244727, \tTrain_dice : 0.516694, \n",
            "Validation Loss : 0.285422, \tVal_dice : 0.495323\n",
            "\n",
            "Epoch : 58 \n",
            "training Loss : 0.249271, \tTrain_dice : 0.516760, \n",
            "Validation Loss : 0.288296, \tVal_dice : 0.490394\n",
            "\n",
            "Epoch : 59 \n",
            "training Loss : 0.240355, \tTrain_dice : 0.525492, \n",
            "Validation Loss : 0.272092, \tVal_dice : 0.502904\n",
            "Validation loss decreased (0.284804 --> 0.272092).\n",
            "Saving model ...\n",
            "\n",
            "Epoch : 60 \n",
            "training Loss : 0.243266, \tTrain_dice : 0.529204, \n",
            "Validation Loss : 0.275723, \tVal_dice : 0.511080\n",
            "\n",
            "Epoch : 61 \n",
            "training Loss : 0.250976, \tTrain_dice : 0.525199, \n",
            "Validation Loss : 0.319970, \tVal_dice : 0.483153\n",
            "\n",
            "Epoch : 62 \n",
            "training Loss : 0.246599, \tTrain_dice : 0.529018, \n",
            "Validation Loss : 0.292149, \tVal_dice : 0.500110\n",
            "\n",
            "Epoch : 63 \n",
            "training Loss : 0.240534, \tTrain_dice : 0.538651, \n",
            "Validation Loss : 0.311278, \tVal_dice : 0.480387\n",
            "\n",
            "Epoch : 64 \n",
            "training Loss : 0.240227, \tTrain_dice : 0.542090, \n",
            "Validation Loss : 0.275900, \tVal_dice : 0.515101\n",
            "\n",
            "Epoch : 65 \n",
            "training Loss : 0.233613, \tTrain_dice : 0.548182, \n",
            "Validation Loss : 0.280678, \tVal_dice : 0.503838\n",
            "\n",
            "Epoch : 66 \n",
            "training Loss : 0.231646, \tTrain_dice : 0.551558, \n",
            "Validation Loss : 0.281030, \tVal_dice : 0.520766\n",
            "\n",
            "Epoch : 67 \n",
            "training Loss : 0.233910, \tTrain_dice : 0.552846, \n",
            "Validation Loss : 0.269157, \tVal_dice : 0.532771\n",
            "Validation loss decreased (0.272092 --> 0.269157).\n",
            "Saving model ...\n",
            "\n",
            "Epoch : 68 \n",
            "training Loss : 0.230297, \tTrain_dice : 0.553292, \n",
            "Validation Loss : 0.269807, \tVal_dice : 0.512956\n",
            "\n",
            "Epoch : 69 \n",
            "training Loss : 0.235880, \tTrain_dice : 0.553869, \n",
            "Validation Loss : 0.277897, \tVal_dice : 0.522457\n",
            "\n",
            "Epoch : 70 \n",
            "training Loss : 0.227497, \tTrain_dice : 0.563263, \n",
            "Validation Loss : 0.275565, \tVal_dice : 0.520905\n",
            "\n",
            "Epoch : 71 \n",
            "training Loss : 0.227099, \tTrain_dice : 0.562562, \n",
            "Validation Loss : 0.332516, \tVal_dice : 0.480259\n",
            "\n",
            "Epoch : 72 \n",
            "training Loss : 0.232823, \tTrain_dice : 0.561359, \n",
            "Validation Loss : 0.268615, \tVal_dice : 0.525150\n",
            "Validation loss decreased (0.269157 --> 0.268615).\n",
            "Saving model ...\n",
            "\n",
            "Epoch : 73 \n",
            "training Loss : 0.227101, \tTrain_dice : 0.568999, \n",
            "Validation Loss : 0.285428, \tVal_dice : 0.531416\n",
            "\n",
            "Epoch : 74 \n",
            "training Loss : 0.231504, \tTrain_dice : 0.565222, \n",
            "Validation Loss : 0.277465, \tVal_dice : 0.525607\n",
            "\n",
            "Epoch : 75 \n",
            "training Loss : 0.226600, \tTrain_dice : 0.571281, \n",
            "Validation Loss : 0.291045, \tVal_dice : 0.506283\n",
            "\n",
            "Epoch : 76 \n",
            "training Loss : 0.237551, \tTrain_dice : 0.563767, \n",
            "Validation Loss : 0.277525, \tVal_dice : 0.531850\n",
            "\n",
            "Epoch : 77 \n",
            "training Loss : 0.230957, \tTrain_dice : 0.568570, \n",
            "Validation Loss : 0.272161, \tVal_dice : 0.539580\n",
            "\n",
            "Epoch : 78 \n",
            "training Loss : 0.236518, \tTrain_dice : 0.571295, \n",
            "Validation Loss : 0.330250, \tVal_dice : 0.507393\n",
            "\n",
            "Epoch : 79 \n",
            "training Loss : 0.227423, \tTrain_dice : 0.576254, \n",
            "Validation Loss : 0.284762, \tVal_dice : 0.537137\n",
            "\n",
            "Epoch : 80 \n",
            "training Loss : 0.227528, \tTrain_dice : 0.578669, \n",
            "Validation Loss : 0.271972, \tVal_dice : 0.551138\n",
            "\n",
            "Epoch : 81 \n",
            "training Loss : 0.234755, \tTrain_dice : 0.572568, \n",
            "Validation Loss : 0.272625, \tVal_dice : 0.535340\n",
            "\n",
            "Epoch : 82 \n",
            "training Loss : 0.232567, \tTrain_dice : 0.576786, \n",
            "Validation Loss : 0.265319, \tVal_dice : 0.554529\n",
            "Validation loss decreased (0.268615 --> 0.265319).\n",
            "Saving model ...\n",
            "\n",
            "Epoch : 83 \n",
            "training Loss : 0.223544, \tTrain_dice : 0.584523, \n",
            "Validation Loss : 0.290285, \tVal_dice : 0.549068\n",
            "\n",
            "Epoch : 84 \n",
            "training Loss : 0.235446, \tTrain_dice : 0.576289, \n",
            "Validation Loss : 0.310992, \tVal_dice : 0.521452\n",
            "\n",
            "Epoch : 85 \n",
            "training Loss : 0.250285, \tTrain_dice : 0.558760, \n",
            "Validation Loss : 0.283413, \tVal_dice : 0.545316\n",
            "\n",
            "Epoch : 86 \n",
            "training Loss : 0.233524, \tTrain_dice : 0.578563, \n",
            "Validation Loss : 0.305925, \tVal_dice : 0.514776\n",
            "\n",
            "Epoch : 87 \n",
            "training Loss : 0.236796, \tTrain_dice : 0.577705, \n",
            "Validation Loss : 0.267812, \tVal_dice : 0.548943\n",
            "\n",
            "Epoch : 88 \n",
            "training Loss : 0.235457, \tTrain_dice : 0.580766, \n",
            "Validation Loss : 0.285521, \tVal_dice : 0.546632\n",
            "\n",
            "Epoch : 89 \n",
            "training Loss : 0.226466, \tTrain_dice : 0.591564, \n",
            "Validation Loss : 0.267550, \tVal_dice : 0.561885\n",
            "\n",
            "Epoch : 90 \n",
            "training Loss : 0.224535, \tTrain_dice : 0.585200, \n",
            "Validation Loss : 0.265306, \tVal_dice : 0.552429\n",
            "Validation loss decreased (0.265319 --> 0.265306).\n",
            "Saving model ...\n",
            "\n",
            "Epoch : 91 \n",
            "training Loss : 0.232776, \tTrain_dice : 0.586517, \n",
            "Validation Loss : 0.310341, \tVal_dice : 0.513209\n",
            "\n",
            "Epoch : 92 \n",
            "training Loss : 0.220576, \tTrain_dice : 0.596951, \n",
            "Validation Loss : 0.269632, \tVal_dice : 0.558931\n",
            "\n",
            "Epoch : 93 \n",
            "training Loss : 0.216178, \tTrain_dice : 0.601197, \n",
            "Validation Loss : 0.272348, \tVal_dice : 0.555420\n",
            "\n",
            "Epoch : 94 \n",
            "training Loss : 0.215455, \tTrain_dice : 0.603040, \n",
            "Validation Loss : 0.264442, \tVal_dice : 0.560128\n",
            "Validation loss decreased (0.265306 --> 0.264442).\n",
            "Saving model ...\n",
            "\n",
            "Epoch : 95 \n",
            "training Loss : 0.211056, \tTrain_dice : 0.608234, \n",
            "Validation Loss : 0.262740, \tVal_dice : 0.566321\n",
            "Validation loss decreased (0.264442 --> 0.262740).\n",
            "Saving model ...\n",
            "\n",
            "Epoch : 96 \n",
            "training Loss : 0.210938, \tTrain_dice : 0.608176, \n",
            "Validation Loss : 0.270129, \tVal_dice : 0.573097\n",
            "\n",
            "Epoch : 97 \n",
            "training Loss : 0.220204, \tTrain_dice : 0.604308, \n",
            "Validation Loss : 0.272381, \tVal_dice : 0.567922\n",
            "\n",
            "Epoch : 98 \n",
            "training Loss : 0.219990, \tTrain_dice : 0.602009, \n",
            "Validation Loss : 0.328197, \tVal_dice : 0.521960\n",
            "\n",
            "Epoch : 99 \n",
            "training Loss : 0.221958, \tTrain_dice : 0.602252, \n",
            "Validation Loss : 0.285359, \tVal_dice : 0.563033\n",
            "\n",
            "Epoch : 100 \n",
            "training Loss : 0.222283, \tTrain_dice : 0.605042, \n",
            "Validation Loss : 0.284881, \tVal_dice : 0.563641\n"
          ],
          "name": "stdout"
        }
      ]
    },
    {
      "cell_type": "code",
      "metadata": {
        "id": "NYdCrbhaxMCQ"
      },
      "source": [
        ""
      ],
      "execution_count": 11,
      "outputs": []
    },
    {
      "cell_type": "markdown",
      "metadata": {
        "id": "WHy-FDAI5KST"
      },
      "source": [
        "### *Prediction Visualization*"
      ]
    },
    {
      "cell_type": "code",
      "metadata": {
        "id": "MIg5_b8v5tv2",
        "outputId": "e3692826-ccc0-4e1d-97d5-4c135051348d",
        "colab": {
          "base_uri": "https://localhost:8080/"
        }
      },
      "source": [
        "pred_y = model(torch.unsqueeze(X[55].cuda(), 0))\n",
        "pred_y = torch.exp(pred_y)\n",
        "pred_y.shape"
      ],
      "execution_count": 19,
      "outputs": [
        {
          "output_type": "execute_result",
          "data": {
            "text/plain": [
              "torch.Size([1, 3, 160, 160, 16])"
            ]
          },
          "metadata": {
            "tags": []
          },
          "execution_count": 19
        }
      ]
    },
    {
      "cell_type": "code",
      "metadata": {
        "id": "tKznqqkJxL-C"
      },
      "source": [
        "pred_y = torch.squeeze(pred_y, 0)\n",
        "pred_y = pred_y.cpu().detach().numpy()"
      ],
      "execution_count": 20,
      "outputs": []
    },
    {
      "cell_type": "code",
      "metadata": {
        "id": "jBJnz_S4-_zh",
        "outputId": "f620d0c7-80b0-4a44-9e64-24fd5fc6ddfd",
        "colab": {
          "base_uri": "https://localhost:8080/"
        }
      },
      "source": [
        "true_y = y[55]\n",
        "true_y = true_y.numpy()\n",
        "true_y.shape"
      ],
      "execution_count": 21,
      "outputs": [
        {
          "output_type": "execute_result",
          "data": {
            "text/plain": [
              "(3, 160, 160, 16)"
            ]
          },
          "metadata": {
            "tags": []
          },
          "execution_count": 21
        }
      ]
    },
    {
      "cell_type": "code",
      "metadata": {
        "id": "xYxd-hed_x2p",
        "outputId": "1661f2ed-fe84-46b3-dda8-7ae714499271",
        "colab": {
          "base_uri": "https://localhost:8080/",
          "height": 286
        }
      },
      "source": [
        "plt.imshow(X[55][0,:,:,12], cmap = 'gray')"
      ],
      "execution_count": 23,
      "outputs": [
        {
          "output_type": "execute_result",
          "data": {
            "text/plain": [
              "<matplotlib.image.AxesImage at 0x7f084a4c7278>"
            ]
          },
          "metadata": {
            "tags": []
          },
          "execution_count": 23
        },
        {
          "output_type": "display_data",
          "data": {
            "image/png": "[encoded data removed]",
            "text/plain": [
              "<Figure size 432x288 with 1 Axes>"
            ]
          },
          "metadata": {
            "tags": [],
            "needs_background": "light"
          }
        }
      ]
    },
    {
      "cell_type": "code",
      "metadata": {
        "id": "QIRwC1zzE7hQ",
        "outputId": "5ffc631c-73a5-4071-9bba-751ff65576e0",
        "colab": {
          "base_uri": "https://localhost:8080/",
          "height": 303
        }
      },
      "source": [
        "print('Ground truth')\n",
        "plt.imshow(true_y[1,:,:,12],cmap = 'gray')"
      ],
      "execution_count": 28,
      "outputs": [
        {
          "output_type": "stream",
          "text": [
            "Ground truth\n"
          ],
          "name": "stdout"
        },
        {
          "output_type": "execute_result",
          "data": {
            "text/plain": [
              "<matplotlib.image.AxesImage at 0x7f084a37aac8>"
            ]
          },
          "metadata": {
            "tags": []
          },
          "execution_count": 28
        },
        {
          "output_type": "display_data",
          "data": {
            "image/png": "[encoded data removed]",
            "text/plain": [
              "<Figure size 432x288 with 1 Axes>"
            ]
          },
          "metadata": {
            "tags": [],
            "needs_background": "light"
          }
        }
      ]
    },
    {
      "cell_type": "code",
      "metadata": {
        "id": "3jwjH80hISKM",
        "outputId": "a796a377-c893-4667-aeb1-62195c9c6462",
        "colab": {
          "base_uri": "https://localhost:8080/",
          "height": 303
        }
      },
      "source": [
        "print('Prediction')\n",
        "plt.imshow(pred_y[1,:,:,12],cmap = 'gray')"
      ],
      "execution_count": 29,
      "outputs": [
        {
          "output_type": "stream",
          "text": [
            "Prediction\n"
          ],
          "name": "stdout"
        },
        {
          "output_type": "execute_result",
          "data": {
            "text/plain": [
              "<matplotlib.image.AxesImage at 0x7f084a2e06d8>"
            ]
          },
          "metadata": {
            "tags": []
          },
          "execution_count": 29
        },
        {
          "output_type": "display_data",
          "data": {
            "image/png": "[encoded data removed]",
            "text/plain": [
              "<Figure size 432x288 with 1 Axes>"
            ]
          },
          "metadata": {
            "tags": [],
            "needs_background": "light"
          }
        }
      ]
    }
  ]
}